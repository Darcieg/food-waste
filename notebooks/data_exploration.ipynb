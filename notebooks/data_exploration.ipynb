{
 "cells": [
  {
   "cell_type": "markdown",
   "id": "97340c78",
   "metadata": {},
   "source": [
    "Check to see what the data types are of the columns in ReFED_US_State_Food_Surplus_Detail.csv\n"
   ]
  },
  {
   "cell_type": "code",
   "execution_count": null,
   "id": "094a22fe",
   "metadata": {},
   "outputs": [],
   "source": [
    "import pandas as pd"
   ]
  },
  {
   "cell_type": "code",
   "execution_count": null,
   "id": "7b092a76",
   "metadata": {},
   "outputs": [],
   "source": [
    "df = pd.read_csv('../data/raw/ReFED_US_State_Food_Surplus_Detail.csv', skiprows = 1, nrows = 1000)"
   ]
  },
  {
   "cell_type": "code",
   "execution_count": null,
   "id": "33113f4b",
   "metadata": {},
   "outputs": [],
   "source": [
    "df.info()"
   ]
  },
  {
   "cell_type": "code",
   "execution_count": null,
   "id": "29816ee2",
   "metadata": {},
   "outputs": [],
   "source": [
    "df = pd.read_csv('../data/raw/ReFED_US_State_Food_Surplus_Summary.csv', skiprows = 1, nrows = 1000)"
   ]
  },
  {
   "cell_type": "code",
   "execution_count": null,
   "id": "befd94ea",
   "metadata": {},
   "outputs": [],
   "source": [
    "print(df.columns.tolist())"
   ]
  },
  {
   "cell_type": "code",
   "execution_count": null,
   "id": "5c91b1d6",
   "metadata": {},
   "outputs": [],
   "source": [
    "df.info()"
   ]
  },
  {
   "cell_type": "code",
   "execution_count": null,
   "id": "c1d9e652",
   "metadata": {},
   "outputs": [],
   "source": [
    "import great_expectations as gx\n",
    "import pandas as pd\n",
    "from pathlib import Path\n",
    "\n",
    "# Load your CSV\n",
    "csv_path = Path(\"../data/raw/ReFED_US_Food_Surplus_Summary.csv\").resolve()\n",
    "df = pd.read_csv(csv_path, skiprows=1)\n",
    "\n",
    "print(\"Raw DataFrame columns:\", df.columns.tolist())\n",
    "\n",
    "# Start Great Expectations context\n",
    "context = gx.get_context(mode=\"ephemeral\")\n",
    "\n",
    "# This works in 0.18.11 to create a Validator directly from a DataFrame\n",
    "validator = context.sources.pandas_default.read_dataframe(df)\n",
    "\n",
    "# Print the actual GE-tracked DataFrame columns\n",
    "print(\"GE batch columns:\", validator.head().columns.tolist())\n",
    "\n",
    "# Define expectations\n",
    "validator.expect_column_values_to_not_be_null(\"tons_surplus\")\n",
    "validator.expect_column_values_to_be_between(\"tons_surplus\", min_value=0)\n",
    "\n",
    "# Run validation\n",
    "results = validator.validate()\n",
    "print(\"Success?\", results[\"success\"])\n"
   ]
  },
  {
   "cell_type": "code",
   "execution_count": null,
   "id": "a0097cb0",
   "metadata": {},
   "outputs": [],
   "source": [
    "import pandas as pd\n",
    "import sys\n",
    "from pathlib import Path\n",
    "\n",
    "# Adds the parent of \"scripts\" (project root) to the Python path\n",
    "sys.path.append(str(Path().resolve().parent))\n",
    "\n",
    "from scripts.cleaning.constants import get_column_diff, get_column_overlap\n",
    "\n",
    "surplus_summary_path       = Path(\"../data/raw/ReFED_US_Food_Surplus_Summary.csv\").resolve()\n",
    "surplus_cause_summary_path = Path(\"../data/raw/ReFED_US_Food_Surplus_Cause_Summary.csv\").resolve()\n",
    "surplus_detail_path        = Path(\"../data/raw/ReFED_US_Food_Surplus_Detail.csv\").resolve()\n",
    "surplus_state_summary_path = Path(\"../data/raw/ReFED_US_State_Food_Surplus_Summary.csv\").resolve()\n",
    "surplus_state_detail_path  = Path(\"../data/raw/ReFED_US_State_Food_Surplus_Detail.csv\").resolve()\n",
    "df_surplus_summary         = pd.read_csv(surplus_summary_path, skiprows=1)\n",
    "df_surplus_cause_summary   = pd.read_csv(surplus_cause_summary_path, skiprows=1)\n",
    "df_surplus_detail          = pd.read_csv(surplus_state_detail_path, skiprows=1)\n",
    "df_surplus_state_summary   = pd.read_csv(surplus_state_summary_path, skiprows=1)\n",
    "df_surplus_state_detail    = pd.read_csv(surplus_state_detail_path, skiprows=1)\n",
    "\n"
   ]
  },
  {
   "cell_type": "code",
   "execution_count": null,
   "id": "38ae5e30",
   "metadata": {},
   "outputs": [],
   "source": [
    "shared_cols_total = get_column_overlap(df_surplus_summary, df_surplus_cause_summary, df_surplus_detail, df_surplus_state_detail, df_surplus_state_summary)\n",
    "diff_surplus_summary = get_column_diff(df_surplus_summary, df_surplus_cause_summary)\n",
    "diff_surplus_cause_summary = get_column_diff(df_surplus_cause_summary, df_surplus_summary)\n",
    "\n",
    "#diff_surplus_summary = get_column_diff(df_surplus_summary, df_surplus_cause_summary)\n",
    "#diff_surplus_cause_summary = get_column_diff(df_surplus_cause_summary, df_surplus_summary)\n",
    "\n",
    "print(\"Shared columns:\\n\", sorted(shared_cols_total))\n",
    "print(\"\\nColumns only in surplus_summary:\\n\", sorted(diff_surplus_summary))\n",
    "print(\"\\nColumns only in surplus_cause_summary:\\n\", sorted(diff_surplus_cause_summary))\n",
    "\n",
    "# I'm thinking that the states are going to share columns, but also that the causes are the outlier\n",
    "shared_cols_state = get_column_overlap(df_surplus_state_detail, df_surplus_state_summary)\n",
    "diff_surplus_state_summary = get_column_diff(df_surplus_state_summary, df_surplus_state_detail)\n",
    "diff_surplus_state_detail = get_column_diff(df_surplus_state_detail, df_surplus_state_summary)\n",
    "print(\"Shared state columns:\\n\", sorted(shared_cols_state))\n",
    "print(\"\\nColumns only in surplus_states_summary:\\n\", sorted(diff_surplus_state_summary))\n",
    "print(\"\\nColumns only in surplus_states_detail:\\n\", sorted(diff_surplus_state_detail))\n",
    "\n",
    "# Probably the state and US schema for detail are the same\n",
    "shared_cols_detail = get_column_overlap(df_surplus_detail, df_surplus_state_detail)\n",
    "diff_cols_detail = get_column_diff(df_surplus_detail, df_surplus_state_detail)\n",
    "diff_cols_state_detail = get_column_diff(df_surplus_detail, df_surplus_state_detail)\n",
    "print(\"\\nShared columns in *_detail:\\n\", sorted(shared_cols_detail))\n",
    "print(\"\\nColumns only in surplus_detail:\\n\", sorted(diff_cols_detail))\n",
    "print(\"\\nColumns only in surplus_states_detail:\\n\", sorted(diff_cols_state_detail))\n",
    "\n",
    "\n"
   ]
  },
  {
   "cell_type": "code",
   "execution_count": null,
   "id": "b8162d7d",
   "metadata": {},
   "outputs": [],
   "source": [
    "# Same with the summary (US vs state), except the states_summary has the state as a column\n",
    "\n",
    "shared_cols_summary     = get_column_overlap(df_surplus_summary, df_surplus_state_summary)\n",
    "diff_cols_summary       = get_column_diff(df_surplus_summary, df_surplus_state_summary)\n",
    "diff_cols_state_summary = get_column_diff(df_surplus_state_summary, df_surplus_summary)\n",
    "print(\"\\nShared columns in *_summary:\\n\", sorted(shared_cols_summary))\n",
    "print(\"\\nColumns only in surplus_summary:\\n\", sorted(diff_cols_summary))\n",
    "print(\"\\nColumns only in surplus_states_summary:\\n\", sorted(diff_cols_state_summary))"
   ]
  }
 ],
 "metadata": {
  "kernelspec": {
   "display_name": "susAgEnv",
   "language": "python",
   "name": "python3"
  },
  "language_info": {
   "codemirror_mode": {
    "name": "ipython",
    "version": 3
   },
   "file_extension": ".py",
   "mimetype": "text/x-python",
   "name": "python",
   "nbconvert_exporter": "python",
   "pygments_lexer": "ipython3",
   "version": "3.12.3"
  }
 },
 "nbformat": 4,
 "nbformat_minor": 5
}
