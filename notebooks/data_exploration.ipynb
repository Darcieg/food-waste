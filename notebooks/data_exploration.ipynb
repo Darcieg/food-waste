{
 "cells": [
  {
   "cell_type": "markdown",
   "id": "97340c78",
   "metadata": {},
   "source": [
    "Check to see what the data types are of the columns in ReFED_US_State_Food_Surplus_Detail.csv\n"
   ]
  },
  {
   "cell_type": "code",
   "execution_count": 2,
   "id": "094a22fe",
   "metadata": {},
   "outputs": [],
   "source": [
    "import pandas as pd"
   ]
  },
  {
   "cell_type": "code",
   "execution_count": 3,
   "id": "7b092a76",
   "metadata": {},
   "outputs": [],
   "source": [
    "df = pd.read_csv('../data/raw/ReFED_US_State_Food_Surplus_Detail.csv', skiprows = 1, nrows = 1000)"
   ]
  },
  {
   "cell_type": "code",
   "execution_count": 4,
   "id": "33113f4b",
   "metadata": {},
   "outputs": [
    {
     "name": "stdout",
     "output_type": "stream",
     "text": [
      "<class 'pandas.core.frame.DataFrame'>\n",
      "RangeIndex: 1000 entries, 0 to 999\n",
      "Data columns (total 31 columns):\n",
      " #   Column                                        Non-Null Count  Dtype  \n",
      "---  ------                                        --------------  -----  \n",
      " 0   year                                          1000 non-null   int64  \n",
      " 1   state                                         1000 non-null   object \n",
      " 2   sector                                        1000 non-null   object \n",
      " 3   sub_sector                                    1000 non-null   object \n",
      " 4   sub_sector_category                           1000 non-null   object \n",
      " 5   food_type                                     1000 non-null   object \n",
      " 6   food_category                                 1000 non-null   object \n",
      " 7   tons_surplus                                  1000 non-null   float64\n",
      " 8   tons_supply                                   1000 non-null   float64\n",
      " 9   us_dollars_surplus                            1000 non-null   float64\n",
      " 10  tons_waste                                    1000 non-null   float64\n",
      " 11  tons_uneaten                                  1000 non-null   float64\n",
      " 12  tons_donations                                1000 non-null   float64\n",
      " 13  tons_industrial_uses                          1000 non-null   float64\n",
      " 14  tons_animal_feed                              1000 non-null   float64\n",
      " 15  tons_anaerobic_digestion                      1000 non-null   float64\n",
      " 16  tons_composting                               1000 non-null   float64\n",
      " 17  tons_not_harvested                            1000 non-null   float64\n",
      " 18  tons_incineration                             1000 non-null   float64\n",
      " 19  tons_land_application                         1000 non-null   float64\n",
      " 20  tons_landfill                                 1000 non-null   float64\n",
      " 21  tons_sewer                                    1000 non-null   float64\n",
      " 22  tons_dumping                                  1000 non-null   float64\n",
      " 23  surplus_upstream_100_year_mtco2e_footprint    1000 non-null   float64\n",
      " 24  surplus_downstream_100_year_mtco2e_footprint  1000 non-null   float64\n",
      " 25  surplus_total_100_year_mtco2e_footprint       1000 non-null   float64\n",
      " 26  surplus_upstream_100_year_mtch4_footprint     1000 non-null   float64\n",
      " 27  surplus_downstream_100_year_mtch4_footprint   1000 non-null   float64\n",
      " 28  surplus_total_100_year_mtch4_footprint        1000 non-null   float64\n",
      " 29  gallons_water_footprint                       1000 non-null   float64\n",
      " 30  meals_wasted                                  1000 non-null   float64\n",
      "dtypes: float64(24), int64(1), object(6)\n",
      "memory usage: 242.3+ KB\n"
     ]
    }
   ],
   "source": [
    "df.info()"
   ]
  },
  {
   "cell_type": "code",
   "execution_count": 5,
   "id": "29816ee2",
   "metadata": {},
   "outputs": [],
   "source": [
    "df = pd.read_csv('../data/raw/ReFED_US_State_Food_Surplus_Summary.csv', skiprows = 1, nrows = 1000)"
   ]
  },
  {
   "cell_type": "code",
   "execution_count": 6,
   "id": "befd94ea",
   "metadata": {},
   "outputs": [
    {
     "name": "stdout",
     "output_type": "stream",
     "text": [
      "['year', 'state', 'sector', 'sub_sector', 'sub_sector_category', 'food_type', 'tons_surplus', 'tons_supply', 'us_dollars_surplus', 'tons_waste', 'tons_uneaten', 'tons_inedible_parts', 'tons_not_fit_for_human_consumption', 'tons_donations', 'tons_industrial_uses', 'tons_animal_feed', 'tons_anaerobic_digestion', 'tons_composting', 'tons_not_harvested', 'tons_incineration', 'tons_land_application', 'tons_landfill', 'tons_sewer', 'tons_dumping', 'surplus_upstream_100_year_mtco2e_footprint', 'surplus_downstream_100_year_mtco2e_footprint', 'surplus_total_100_year_mtco2e_footprint', 'surplus_upstream_100_year_mtch4_footprint', 'surplus_downstream_100_year_mtch4_footprint', 'surplus_total_100_year_mtch4_footprint', 'gallons_water_footprint', 'meals_wasted']\n"
     ]
    }
   ],
   "source": [
    "print(df.columns.tolist())"
   ]
  },
  {
   "cell_type": "code",
   "execution_count": 7,
   "id": "5c91b1d6",
   "metadata": {},
   "outputs": [
    {
     "name": "stdout",
     "output_type": "stream",
     "text": [
      "<class 'pandas.core.frame.DataFrame'>\n",
      "RangeIndex: 1000 entries, 0 to 999\n",
      "Data columns (total 32 columns):\n",
      " #   Column                                        Non-Null Count  Dtype  \n",
      "---  ------                                        --------------  -----  \n",
      " 0   year                                          1000 non-null   int64  \n",
      " 1   state                                         1000 non-null   object \n",
      " 2   sector                                        1000 non-null   object \n",
      " 3   sub_sector                                    1000 non-null   object \n",
      " 4   sub_sector_category                           1000 non-null   object \n",
      " 5   food_type                                     1000 non-null   object \n",
      " 6   tons_surplus                                  1000 non-null   float64\n",
      " 7   tons_supply                                   1000 non-null   float64\n",
      " 8   us_dollars_surplus                            1000 non-null   float64\n",
      " 9   tons_waste                                    1000 non-null   float64\n",
      " 10  tons_uneaten                                  1000 non-null   float64\n",
      " 11  tons_inedible_parts                           1000 non-null   float64\n",
      " 12  tons_not_fit_for_human_consumption            1000 non-null   float64\n",
      " 13  tons_donations                                1000 non-null   float64\n",
      " 14  tons_industrial_uses                          1000 non-null   float64\n",
      " 15  tons_animal_feed                              1000 non-null   float64\n",
      " 16  tons_anaerobic_digestion                      1000 non-null   float64\n",
      " 17  tons_composting                               1000 non-null   float64\n",
      " 18  tons_not_harvested                            1000 non-null   float64\n",
      " 19  tons_incineration                             1000 non-null   float64\n",
      " 20  tons_land_application                         1000 non-null   float64\n",
      " 21  tons_landfill                                 1000 non-null   float64\n",
      " 22  tons_sewer                                    1000 non-null   float64\n",
      " 23  tons_dumping                                  1000 non-null   float64\n",
      " 24  surplus_upstream_100_year_mtco2e_footprint    1000 non-null   float64\n",
      " 25  surplus_downstream_100_year_mtco2e_footprint  1000 non-null   float64\n",
      " 26  surplus_total_100_year_mtco2e_footprint       1000 non-null   float64\n",
      " 27  surplus_upstream_100_year_mtch4_footprint     1000 non-null   float64\n",
      " 28  surplus_downstream_100_year_mtch4_footprint   1000 non-null   float64\n",
      " 29  surplus_total_100_year_mtch4_footprint        1000 non-null   float64\n",
      " 30  gallons_water_footprint                       1000 non-null   float64\n",
      " 31  meals_wasted                                  1000 non-null   float64\n",
      "dtypes: float64(26), int64(1), object(5)\n",
      "memory usage: 250.1+ KB\n"
     ]
    }
   ],
   "source": [
    "df.info()"
   ]
  },
  {
   "cell_type": "code",
   "execution_count": 32,
   "id": "bd356a0b",
   "metadata": {},
   "outputs": [],
   "source": [
    "df = pd.read_csv('../data/raw/ReFED_US_Food_Waste_Solutions_Detail.csv', skiprows = 1)"
   ]
  },
  {
   "cell_type": "code",
   "execution_count": 33,
   "id": "5c9c29b6",
   "metadata": {},
   "outputs": [
    {
     "name": "stdout",
     "output_type": "stream",
     "text": [
      "<class 'pandas.core.frame.DataFrame'>\n",
      "RangeIndex: 186700 entries, 0 to 186699\n",
      "Data columns (total 17 columns):\n",
      " #   Column                                      Non-Null Count   Dtype  \n",
      "---  ------                                      --------------   -----  \n",
      " 0   solution_group                              186700 non-null  object \n",
      " 1   solution_priority_action_area               186700 non-null  object \n",
      " 2   solution_name                               186700 non-null  object \n",
      " 3   sector                                      186700 non-null  object \n",
      " 4   sub_sector                                  186700 non-null  object \n",
      " 5   sub_sector_category                         186700 non-null  object \n",
      " 6   state                                       186700 non-null  object \n",
      " 7   food_type                                   186700 non-null  object \n",
      " 8   annual_tons_diversion_potential             186700 non-null  float64\n",
      " 9   annual_100_year_mtco2e_reduction_potential  186700 non-null  float64\n",
      " 10  annual_100_year_mtch4_reduction_potential   186700 non-null  float64\n",
      " 11  annual_gallons_water_savings_potential      186700 non-null  float64\n",
      " 12  annual_meal_equivalents_diverted            186700 non-null  float64\n",
      " 13  jobs_created                                186700 non-null  float64\n",
      " 14  annual_us_dollars_cost                      185097 non-null  float64\n",
      " 15  annual_us_dollars_gross_financial_benefit   185097 non-null  float64\n",
      " 16  annual_us_dollars_net_financial_benefit     185097 non-null  float64\n",
      "dtypes: float64(9), object(8)\n",
      "memory usage: 24.2+ MB\n"
     ]
    }
   ],
   "source": [
    "df.info()"
   ]
  },
  {
   "cell_type": "code",
   "execution_count": 34,
   "id": "d3893a98",
   "metadata": {},
   "outputs": [
    {
     "data": {
      "text/plain": [
       "Index(['solution_group', 'solution_priority_action_area', 'solution_name',\n",
       "       'sector', 'sub_sector', 'sub_sector_category', 'state', 'food_type',\n",
       "       'annual_tons_diversion_potential',\n",
       "       'annual_100_year_mtco2e_reduction_potential',\n",
       "       'annual_100_year_mtch4_reduction_potential',\n",
       "       'annual_gallons_water_savings_potential',\n",
       "       'annual_meal_equivalents_diverted', 'jobs_created',\n",
       "       'annual_us_dollars_cost', 'annual_us_dollars_gross_financial_benefit',\n",
       "       'annual_us_dollars_net_financial_benefit'],\n",
       "      dtype='object')"
      ]
     },
     "execution_count": 34,
     "metadata": {},
     "output_type": "execute_result"
    }
   ],
   "source": [
    "df.columns"
   ]
  },
  {
   "cell_type": "code",
   "execution_count": 10,
   "id": "4f1caee2",
   "metadata": {},
   "outputs": [
    {
     "data": {
      "text/html": [
       "<div>\n",
       "<style scoped>\n",
       "    .dataframe tbody tr th:only-of-type {\n",
       "        vertical-align: middle;\n",
       "    }\n",
       "\n",
       "    .dataframe tbody tr th {\n",
       "        vertical-align: top;\n",
       "    }\n",
       "\n",
       "    .dataframe thead th {\n",
       "        text-align: right;\n",
       "    }\n",
       "</style>\n",
       "<table border=\"1\" class=\"dataframe\">\n",
       "  <thead>\n",
       "    <tr style=\"text-align: right;\">\n",
       "      <th></th>\n",
       "      <th>solution_group</th>\n",
       "      <th>solution_priority_action_area</th>\n",
       "      <th>solution_name</th>\n",
       "      <th>sector</th>\n",
       "      <th>sub_sector</th>\n",
       "      <th>sub_sector_category</th>\n",
       "      <th>state</th>\n",
       "      <th>food_type</th>\n",
       "      <th>annual_tons_diversion_potential</th>\n",
       "      <th>annual_100_year_mtco2e_reduction_potential</th>\n",
       "      <th>annual_100_year_mtch4_reduction_potential</th>\n",
       "      <th>annual_gallons_water_savings_potential</th>\n",
       "      <th>annual_meal_equivalents_diverted</th>\n",
       "      <th>jobs_created</th>\n",
       "      <th>annual_us_dollars_cost</th>\n",
       "      <th>annual_us_dollars_gross_financial_benefit</th>\n",
       "      <th>annual_us_dollars_net_financial_benefit</th>\n",
       "    </tr>\n",
       "  </thead>\n",
       "  <tbody>\n",
       "    <tr>\n",
       "      <th>0</th>\n",
       "      <td>Prevention</td>\n",
       "      <td>Enhance Product Distribution</td>\n",
       "      <td>Decreased Transit Time</td>\n",
       "      <td>Farm</td>\n",
       "      <td>Not Applicable</td>\n",
       "      <td>Not Applicable</td>\n",
       "      <td>Alabama</td>\n",
       "      <td>Produce</td>\n",
       "      <td>122.648068</td>\n",
       "      <td>21.061844</td>\n",
       "      <td>0.097223</td>\n",
       "      <td>3.774974e+06</td>\n",
       "      <td>2.044134e+05</td>\n",
       "      <td>0.0</td>\n",
       "      <td>7.186987e+04</td>\n",
       "      <td>3.978317e+05</td>\n",
       "      <td>3.259618e+05</td>\n",
       "    </tr>\n",
       "    <tr>\n",
       "      <th>1</th>\n",
       "      <td>Prevention</td>\n",
       "      <td>Enhance Product Distribution</td>\n",
       "      <td>Decreased Transit Time</td>\n",
       "      <td>Farm</td>\n",
       "      <td>Not Applicable</td>\n",
       "      <td>Not Applicable</td>\n",
       "      <td>Alaska</td>\n",
       "      <td>Produce</td>\n",
       "      <td>11.612269</td>\n",
       "      <td>2.288086</td>\n",
       "      <td>0.016943</td>\n",
       "      <td>3.427177e+05</td>\n",
       "      <td>1.935378e+04</td>\n",
       "      <td>0.0</td>\n",
       "      <td>6.804609e+03</td>\n",
       "      <td>3.766654e+04</td>\n",
       "      <td>3.086193e+04</td>\n",
       "    </tr>\n",
       "    <tr>\n",
       "      <th>2</th>\n",
       "      <td>Prevention</td>\n",
       "      <td>Enhance Product Distribution</td>\n",
       "      <td>Decreased Transit Time</td>\n",
       "      <td>Farm</td>\n",
       "      <td>Not Applicable</td>\n",
       "      <td>Not Applicable</td>\n",
       "      <td>Arizona</td>\n",
       "      <td>Produce</td>\n",
       "      <td>538.745250</td>\n",
       "      <td>91.797857</td>\n",
       "      <td>0.404789</td>\n",
       "      <td>1.662418e+07</td>\n",
       "      <td>8.979088e+05</td>\n",
       "      <td>0.0</td>\n",
       "      <td>3.156964e+05</td>\n",
       "      <td>1.747520e+06</td>\n",
       "      <td>1.431824e+06</td>\n",
       "    </tr>\n",
       "    <tr>\n",
       "      <th>3</th>\n",
       "      <td>Prevention</td>\n",
       "      <td>Enhance Product Distribution</td>\n",
       "      <td>Decreased Transit Time</td>\n",
       "      <td>Farm</td>\n",
       "      <td>Not Applicable</td>\n",
       "      <td>Not Applicable</td>\n",
       "      <td>Arkansas</td>\n",
       "      <td>Produce</td>\n",
       "      <td>111.449996</td>\n",
       "      <td>19.230188</td>\n",
       "      <td>0.091263</td>\n",
       "      <td>3.425387e+06</td>\n",
       "      <td>1.857500e+05</td>\n",
       "      <td>0.0</td>\n",
       "      <td>6.530797e+04</td>\n",
       "      <td>3.615087e+05</td>\n",
       "      <td>2.962007e+05</td>\n",
       "    </tr>\n",
       "    <tr>\n",
       "      <th>4</th>\n",
       "      <td>Prevention</td>\n",
       "      <td>Enhance Product Distribution</td>\n",
       "      <td>Decreased Transit Time</td>\n",
       "      <td>Farm</td>\n",
       "      <td>Not Applicable</td>\n",
       "      <td>Not Applicable</td>\n",
       "      <td>California</td>\n",
       "      <td>Produce</td>\n",
       "      <td>12177.757085</td>\n",
       "      <td>2092.918189</td>\n",
       "      <td>9.456154</td>\n",
       "      <td>3.750749e+08</td>\n",
       "      <td>2.029626e+07</td>\n",
       "      <td>0.0</td>\n",
       "      <td>7.135977e+06</td>\n",
       "      <td>3.950081e+07</td>\n",
       "      <td>3.236483e+07</td>\n",
       "    </tr>\n",
       "  </tbody>\n",
       "</table>\n",
       "</div>"
      ],
      "text/plain": [
       "  solution_group solution_priority_action_area           solution_name sector  \\\n",
       "0     Prevention  Enhance Product Distribution  Decreased Transit Time   Farm   \n",
       "1     Prevention  Enhance Product Distribution  Decreased Transit Time   Farm   \n",
       "2     Prevention  Enhance Product Distribution  Decreased Transit Time   Farm   \n",
       "3     Prevention  Enhance Product Distribution  Decreased Transit Time   Farm   \n",
       "4     Prevention  Enhance Product Distribution  Decreased Transit Time   Farm   \n",
       "\n",
       "       sub_sector sub_sector_category       state food_type  \\\n",
       "0  Not Applicable      Not Applicable     Alabama   Produce   \n",
       "1  Not Applicable      Not Applicable      Alaska   Produce   \n",
       "2  Not Applicable      Not Applicable     Arizona   Produce   \n",
       "3  Not Applicable      Not Applicable    Arkansas   Produce   \n",
       "4  Not Applicable      Not Applicable  California   Produce   \n",
       "\n",
       "   annual_tons_diversion_potential  \\\n",
       "0                       122.648068   \n",
       "1                        11.612269   \n",
       "2                       538.745250   \n",
       "3                       111.449996   \n",
       "4                     12177.757085   \n",
       "\n",
       "   annual_100_year_mtco2e_reduction_potential  \\\n",
       "0                                   21.061844   \n",
       "1                                    2.288086   \n",
       "2                                   91.797857   \n",
       "3                                   19.230188   \n",
       "4                                 2092.918189   \n",
       "\n",
       "   annual_100_year_mtch4_reduction_potential  \\\n",
       "0                                   0.097223   \n",
       "1                                   0.016943   \n",
       "2                                   0.404789   \n",
       "3                                   0.091263   \n",
       "4                                   9.456154   \n",
       "\n",
       "   annual_gallons_water_savings_potential  annual_meal_equivalents_diverted  \\\n",
       "0                            3.774974e+06                      2.044134e+05   \n",
       "1                            3.427177e+05                      1.935378e+04   \n",
       "2                            1.662418e+07                      8.979088e+05   \n",
       "3                            3.425387e+06                      1.857500e+05   \n",
       "4                            3.750749e+08                      2.029626e+07   \n",
       "\n",
       "   jobs_created  annual_us_dollars_cost  \\\n",
       "0           0.0            7.186987e+04   \n",
       "1           0.0            6.804609e+03   \n",
       "2           0.0            3.156964e+05   \n",
       "3           0.0            6.530797e+04   \n",
       "4           0.0            7.135977e+06   \n",
       "\n",
       "   annual_us_dollars_gross_financial_benefit  \\\n",
       "0                               3.978317e+05   \n",
       "1                               3.766654e+04   \n",
       "2                               1.747520e+06   \n",
       "3                               3.615087e+05   \n",
       "4                               3.950081e+07   \n",
       "\n",
       "   annual_us_dollars_net_financial_benefit  \n",
       "0                             3.259618e+05  \n",
       "1                             3.086193e+04  \n",
       "2                             1.431824e+06  \n",
       "3                             2.962007e+05  \n",
       "4                             3.236483e+07  "
      ]
     },
     "execution_count": 10,
     "metadata": {},
     "output_type": "execute_result"
    }
   ],
   "source": [
    "df.head()\n"
   ]
  },
  {
   "cell_type": "code",
   "execution_count": 29,
   "id": "4185d75a",
   "metadata": {},
   "outputs": [],
   "source": [
    "df = pd.read_csv('../data/raw/ReFED_US_Food_Waste_Solutions_Summary.csv', skiprows = 1)"
   ]
  },
  {
   "cell_type": "code",
   "execution_count": 30,
   "id": "9ad239d3",
   "metadata": {},
   "outputs": [
    {
     "name": "stdout",
     "output_type": "stream",
     "text": [
      "<class 'pandas.core.frame.DataFrame'>\n",
      "RangeIndex: 45 entries, 0 to 44\n",
      "Data columns (total 12 columns):\n",
      " #   Column                                      Non-Null Count  Dtype  \n",
      "---  ------                                      --------------  -----  \n",
      " 0   solution_group                              45 non-null     object \n",
      " 1   solution_priority_action_area               45 non-null     object \n",
      " 2   solution_name                               45 non-null     object \n",
      " 3   annual_tons_diversion_potential             45 non-null     float64\n",
      " 4   annual_100_year_mtco2e_reduction_potential  45 non-null     float64\n",
      " 5   annual_100_year_mtch4_reduction_potential   45 non-null     float64\n",
      " 6   annual_gallons_water_savings_potential      45 non-null     float64\n",
      " 7   annual_meal_equivalents_diverted            45 non-null     float64\n",
      " 8   jobs_created                                45 non-null     float64\n",
      " 9   annual_us_dollars_cost                      45 non-null     float64\n",
      " 10  annual_us_dollars_gross_financial_benefit   45 non-null     float64\n",
      " 11  annual_us_dollars_net_financial_benefit     45 non-null     float64\n",
      "dtypes: float64(9), object(3)\n",
      "memory usage: 4.3+ KB\n"
     ]
    }
   ],
   "source": [
    "df.info()"
   ]
  },
  {
   "cell_type": "code",
   "execution_count": 31,
   "id": "2ee2a89b",
   "metadata": {},
   "outputs": [
    {
     "data": {
      "text/plain": [
       "Index(['solution_group', 'solution_priority_action_area', 'solution_name',\n",
       "       'annual_tons_diversion_potential',\n",
       "       'annual_100_year_mtco2e_reduction_potential',\n",
       "       'annual_100_year_mtch4_reduction_potential',\n",
       "       'annual_gallons_water_savings_potential',\n",
       "       'annual_meal_equivalents_diverted', 'jobs_created',\n",
       "       'annual_us_dollars_cost', 'annual_us_dollars_gross_financial_benefit',\n",
       "       'annual_us_dollars_net_financial_benefit'],\n",
       "      dtype='object')"
      ]
     },
     "execution_count": 31,
     "metadata": {},
     "output_type": "execute_result"
    }
   ],
   "source": [
    "df.columns"
   ]
  },
  {
   "cell_type": "code",
   "execution_count": 35,
   "id": "0f74cbe7",
   "metadata": {},
   "outputs": [],
   "source": [
    "df = pd.read_csv('../data/raw/ReFED_US_Food_Waste_Solutions_Financial_Summary_by_Stakeholder.csv', skiprows = 1)"
   ]
  },
  {
   "cell_type": "code",
   "execution_count": 36,
   "id": "2eabf2d6",
   "metadata": {},
   "outputs": [
    {
     "data": {
      "text/plain": [
       "(144, 7)"
      ]
     },
     "execution_count": 36,
     "metadata": {},
     "output_type": "execute_result"
    }
   ],
   "source": [
    "df.shape"
   ]
  },
  {
   "cell_type": "code",
   "execution_count": 37,
   "id": "f47afada",
   "metadata": {},
   "outputs": [
    {
     "data": {
      "text/html": [
       "<div>\n",
       "<style scoped>\n",
       "    .dataframe tbody tr th:only-of-type {\n",
       "        vertical-align: middle;\n",
       "    }\n",
       "\n",
       "    .dataframe tbody tr th {\n",
       "        vertical-align: top;\n",
       "    }\n",
       "\n",
       "    .dataframe thead th {\n",
       "        text-align: right;\n",
       "    }\n",
       "</style>\n",
       "<table border=\"1\" class=\"dataframe\">\n",
       "  <thead>\n",
       "    <tr style=\"text-align: right;\">\n",
       "      <th></th>\n",
       "      <th>solution_group</th>\n",
       "      <th>solution_priority_action_area</th>\n",
       "      <th>solution_name</th>\n",
       "      <th>stakeholder</th>\n",
       "      <th>annual_us_dollars_cost</th>\n",
       "      <th>annual_us_dollars_gross_financial_benefit</th>\n",
       "      <th>annual_us_dollars_net_financial_benefit</th>\n",
       "    </tr>\n",
       "  </thead>\n",
       "  <tbody>\n",
       "    <tr>\n",
       "      <th>0</th>\n",
       "      <td>Prevention</td>\n",
       "      <td>Enhance Product Distribution</td>\n",
       "      <td>Decreased Transit Time</td>\n",
       "      <td>Foodservice</td>\n",
       "      <td>2.114867e+07</td>\n",
       "      <td>1.170673e+08</td>\n",
       "      <td>9.591862e+07</td>\n",
       "    </tr>\n",
       "    <tr>\n",
       "      <th>1</th>\n",
       "      <td>Prevention</td>\n",
       "      <td>Enhance Product Distribution</td>\n",
       "      <td>Decreased Transit Time</td>\n",
       "      <td>Manufacturers</td>\n",
       "      <td>2.998208e+07</td>\n",
       "      <td>1.659642e+08</td>\n",
       "      <td>1.359821e+08</td>\n",
       "    </tr>\n",
       "    <tr>\n",
       "      <th>2</th>\n",
       "      <td>Prevention</td>\n",
       "      <td>Enhance Product Distribution</td>\n",
       "      <td>Decreased Transit Time</td>\n",
       "      <td>Producers</td>\n",
       "      <td>4.233568e+07</td>\n",
       "      <td>2.343468e+08</td>\n",
       "      <td>1.920111e+08</td>\n",
       "    </tr>\n",
       "    <tr>\n",
       "      <th>3</th>\n",
       "      <td>Prevention</td>\n",
       "      <td>Enhance Product Distribution</td>\n",
       "      <td>Decreased Transit Time</td>\n",
       "      <td>Retailers</td>\n",
       "      <td>2.282315e+08</td>\n",
       "      <td>1.263363e+09</td>\n",
       "      <td>1.035131e+09</td>\n",
       "    </tr>\n",
       "    <tr>\n",
       "      <th>4</th>\n",
       "      <td>Prevention</td>\n",
       "      <td>Enhance Product Distribution</td>\n",
       "      <td>First Expired First Out</td>\n",
       "      <td>Foodservice</td>\n",
       "      <td>6.194179e+06</td>\n",
       "      <td>2.373234e+07</td>\n",
       "      <td>1.753816e+07</td>\n",
       "    </tr>\n",
       "  </tbody>\n",
       "</table>\n",
       "</div>"
      ],
      "text/plain": [
       "  solution_group solution_priority_action_area            solution_name  \\\n",
       "0     Prevention  Enhance Product Distribution   Decreased Transit Time   \n",
       "1     Prevention  Enhance Product Distribution   Decreased Transit Time   \n",
       "2     Prevention  Enhance Product Distribution   Decreased Transit Time   \n",
       "3     Prevention  Enhance Product Distribution   Decreased Transit Time   \n",
       "4     Prevention  Enhance Product Distribution  First Expired First Out   \n",
       "\n",
       "     stakeholder  annual_us_dollars_cost  \\\n",
       "0    Foodservice            2.114867e+07   \n",
       "1  Manufacturers            2.998208e+07   \n",
       "2      Producers            4.233568e+07   \n",
       "3      Retailers            2.282315e+08   \n",
       "4    Foodservice            6.194179e+06   \n",
       "\n",
       "   annual_us_dollars_gross_financial_benefit  \\\n",
       "0                               1.170673e+08   \n",
       "1                               1.659642e+08   \n",
       "2                               2.343468e+08   \n",
       "3                               1.263363e+09   \n",
       "4                               2.373234e+07   \n",
       "\n",
       "   annual_us_dollars_net_financial_benefit  \n",
       "0                             9.591862e+07  \n",
       "1                             1.359821e+08  \n",
       "2                             1.920111e+08  \n",
       "3                             1.035131e+09  \n",
       "4                             1.753816e+07  "
      ]
     },
     "execution_count": 37,
     "metadata": {},
     "output_type": "execute_result"
    }
   ],
   "source": [
    "df.head()"
   ]
  },
  {
   "cell_type": "code",
   "execution_count": 38,
   "id": "fa4fea9d",
   "metadata": {},
   "outputs": [
    {
     "name": "stdout",
     "output_type": "stream",
     "text": [
      "<class 'pandas.core.frame.DataFrame'>\n",
      "RangeIndex: 144 entries, 0 to 143\n",
      "Data columns (total 7 columns):\n",
      " #   Column                                     Non-Null Count  Dtype  \n",
      "---  ------                                     --------------  -----  \n",
      " 0   solution_group                             144 non-null    object \n",
      " 1   solution_priority_action_area              144 non-null    object \n",
      " 2   solution_name                              144 non-null    object \n",
      " 3   stakeholder                                144 non-null    object \n",
      " 4   annual_us_dollars_cost                     144 non-null    float64\n",
      " 5   annual_us_dollars_gross_financial_benefit  144 non-null    float64\n",
      " 6   annual_us_dollars_net_financial_benefit    144 non-null    float64\n",
      "dtypes: float64(3), object(4)\n",
      "memory usage: 8.0+ KB\n"
     ]
    }
   ],
   "source": [
    "df.info()"
   ]
  },
  {
   "cell_type": "code",
   "execution_count": 39,
   "id": "ac4a963c",
   "metadata": {},
   "outputs": [
    {
     "data": {
      "text/plain": [
       "Index(['solution_group', 'solution_priority_action_area', 'solution_name',\n",
       "       'stakeholder', 'annual_us_dollars_cost',\n",
       "       'annual_us_dollars_gross_financial_benefit',\n",
       "       'annual_us_dollars_net_financial_benefit'],\n",
       "      dtype='object')"
      ]
     },
     "execution_count": 39,
     "metadata": {},
     "output_type": "execute_result"
    }
   ],
   "source": [
    "df.columns"
   ]
  },
  {
   "cell_type": "code",
   "execution_count": null,
   "id": "c1d9e652",
   "metadata": {},
   "outputs": [],
   "source": [
    "import great_expectations as gx\n",
    "import pandas as pd\n",
    "from pathlib import Path\n",
    "\n",
    "# Load your CSV\n",
    "csv_path = Path(\"../data/raw/ReFED_US_Food_Surplus_Summary.csv\").resolve()\n",
    "df = pd.read_csv(csv_path, skiprows=1)\n",
    "\n",
    "print(\"Raw DataFrame columns:\", df.columns.tolist())\n",
    "\n",
    "# Start Great Expectations context\n",
    "context = gx.get_context(mode=\"ephemeral\")\n",
    "\n",
    "# This works in 0.18.11 to create a Validator directly from a DataFrame\n",
    "validator = context.sources.pandas_default.read_dataframe(df)\n",
    "\n",
    "# Print the actual GE-tracked DataFrame columns\n",
    "print(\"GE batch columns:\", validator.head().columns.tolist())\n",
    "\n",
    "# Define expectations\n",
    "validator.expect_column_values_to_not_be_null(\"tons_surplus\")\n",
    "validator.expect_column_values_to_be_between(\"tons_surplus\", min_value=0)\n",
    "\n",
    "# Run validation\n",
    "results = validator.validate()\n",
    "print(\"Success?\", results[\"success\"])\n"
   ]
  },
  {
   "cell_type": "code",
   "execution_count": null,
   "id": "a0097cb0",
   "metadata": {},
   "outputs": [],
   "source": [
    "import pandas as pd\n",
    "import sys\n",
    "from pathlib import Path\n",
    "\n",
    "# Adds the parent of \"scripts\" (project root) to the Python path\n",
    "sys.path.append(str(Path().resolve().parent))\n",
    "\n",
    "from scripts.cleaning.constants import get_column_diff, get_column_overlap\n",
    "\n",
    "# File paths\n",
    "surplus_summary_path                   = Path(\"../data/raw/ReFED_US_Food_Surplus_Summary.csv\").resolve()\n",
    "surplus_cause_summary_path             = Path(\"../data/raw/ReFED_US_Food_Surplus_Cause_Summary.csv\").resolve()\n",
    "surplus_detail_path                    = Path(\"../data/raw/ReFED_US_Food_Surplus_Detail.csv\").resolve()\n",
    "surplus_state_summary_path             = Path(\"../data/raw/ReFED_US_State_Food_Surplus_Summary.csv\").resolve()\n",
    "surplus_state_detail_path              = Path(\"../data/raw/ReFED_US_State_Food_Surplus_Detail.csv\").resolve()\n",
    "solutions_detail_path                  = Path(\"../data/raw/ReFED_US_Food_Waste_Solutions_Detail.csv\").resolve()\n",
    "solutions_summary_path                 = Path(\"../data/raw/ReFED_US_Food_Waste_Solutions_Summary.csv\").resolve()\n",
    "solutions_state_summary_path           = Path(\"../data/raw/ReFED_US_State_Food_Waste_Solutions_Summary.csv\").resolve()\n",
    "solutions_financial_summary_path       = Path(\"../data/raw/ReFED_US_Food_Waste_Solutions_Financial_Summary_by_Stakeholder.csv\").resolve()\n",
    "solutions_state_financial_summary_path = Path(\"../data/raw/ReFED_US_State_Food_Waste_Solutions_Financial_Summary_by_Stakeholder.csv\").resolve()\n",
    "\n",
    "# Dataframes\n",
    "df_surplus_summary                    = pd.read_csv(surplus_summary_path, skiprows=1)\n",
    "df_surplus_cause_summary              = pd.read_csv(surplus_cause_summary_path, skiprows=1)\n",
    "df_surplus_detail                     = pd.read_csv(surplus_state_detail_path, skiprows=1)\n",
    "df_surplus_state_summary              = pd.read_csv(surplus_state_summary_path, skiprows=1)\n",
    "df_surplus_state_detail               = pd.read_csv(surplus_state_detail_path, skiprows=1)\n",
    "df_solutions_detail                   = pd.read_csv(solutions_detail_path, skiprows=1)\n",
    "df_solutions_summary                  = pd.read_csv(solutions_summary_path, skiprows=1)\n",
    "df_solutions_state_summary            = pd.read_csv(solutions_state_summary_path, skiprows=1)\n",
    "df_solutions_financial_summary        = pd.read_csv(solutions_financial_summary_path, skiprows=1)\n",
    "df_solutions_state_financial_summary  = pd.read_csv(solutions_state_financial_summary_path, skiprows=1)\n",
    "\n"
   ]
  },
  {
   "cell_type": "code",
   "execution_count": null,
   "id": "38ae5e30",
   "metadata": {},
   "outputs": [
    {
     "name": "stdout",
     "output_type": "stream",
     "text": [
      "Shared columns:\n",
      " []\n",
      "\n",
      "Columns only in surplus_summary:\n",
      " ['gallons_water_footprint', 'meals_wasted', 'sub_sector_category', 'surplus_downstream_100_year_mtch4_footprint', 'surplus_downstream_100_year_mtco2e_footprint', 'surplus_total_100_year_mtch4_footprint', 'surplus_total_100_year_mtco2e_footprint', 'surplus_upstream_100_year_mtch4_footprint', 'surplus_upstream_100_year_mtco2e_footprint', 'tons_anaerobic_digestion', 'tons_animal_feed', 'tons_composting', 'tons_donations', 'tons_dumping', 'tons_incineration', 'tons_industrial_uses', 'tons_land_application', 'tons_landfill', 'tons_not_harvested', 'tons_sewer', 'tons_supply', 'tons_surplus', 'tons_uneaten', 'tons_waste', 'us_dollars_surplus']\n",
      "\n",
      "Columns only in surplus_cause_summary:\n",
      " ['cause_group', 'cause_name', 'tons_surplus_due_to_cause', 'us_dollars_surplus_due_to_cause']\n",
      "Shared state columns:\n",
      " ['food_type', 'gallons_water_footprint', 'meals_wasted', 'sector', 'state', 'sub_sector', 'sub_sector_category', 'surplus_downstream_100_year_mtch4_footprint', 'surplus_downstream_100_year_mtco2e_footprint', 'surplus_total_100_year_mtch4_footprint', 'surplus_total_100_year_mtco2e_footprint', 'surplus_upstream_100_year_mtch4_footprint', 'surplus_upstream_100_year_mtco2e_footprint', 'tons_anaerobic_digestion', 'tons_animal_feed', 'tons_composting', 'tons_donations', 'tons_dumping', 'tons_incineration', 'tons_industrial_uses', 'tons_land_application', 'tons_landfill', 'tons_not_harvested', 'tons_sewer', 'tons_supply', 'tons_surplus', 'tons_uneaten', 'tons_waste', 'us_dollars_surplus', 'year']\n",
      "\n",
      "Columns only in surplus_states_summary:\n",
      " ['tons_inedible_parts', 'tons_not_fit_for_human_consumption']\n",
      "\n",
      "Columns only in surplus_states_detail:\n",
      " ['food_category']\n",
      "\n",
      "Shared columns in *_detail:\n",
      " ['food_category', 'food_type', 'gallons_water_footprint', 'meals_wasted', 'sector', 'state', 'sub_sector', 'sub_sector_category', 'surplus_downstream_100_year_mtch4_footprint', 'surplus_downstream_100_year_mtco2e_footprint', 'surplus_total_100_year_mtch4_footprint', 'surplus_total_100_year_mtco2e_footprint', 'surplus_upstream_100_year_mtch4_footprint', 'surplus_upstream_100_year_mtco2e_footprint', 'tons_anaerobic_digestion', 'tons_animal_feed', 'tons_composting', 'tons_donations', 'tons_dumping', 'tons_incineration', 'tons_industrial_uses', 'tons_land_application', 'tons_landfill', 'tons_not_harvested', 'tons_sewer', 'tons_supply', 'tons_surplus', 'tons_uneaten', 'tons_waste', 'us_dollars_surplus', 'year']\n",
      "\n",
      "Columns only in surplus_detail:\n",
      " []\n",
      "\n",
      "Columns only in surplus_states_detail:\n",
      " []\n",
      "\n",
      "Columns only in solution:\n",
      " ['annual_100_year_mtch4_reduction_potential', 'annual_100_year_mtco2e_reduction_potential', 'annual_gallons_water_savings_potential', 'annual_meal_equivalents_diverted', 'annual_tons_diversion_potential', 'annual_us_dollars_cost', 'annual_us_dollars_gross_financial_benefit', 'annual_us_dollars_net_financial_benefit', 'jobs_created', 'solution_group', 'solution_name', 'solution_priority_action_area']\n",
      "\n",
      "Columns only in surplus:\n",
      " ['food_type', 'gallons_water_footprint', 'meals_wasted', 'sector', 'sub_sector', 'sub_sector_category', 'surplus_downstream_100_year_mtch4_footprint', 'surplus_downstream_100_year_mtco2e_footprint', 'surplus_total_100_year_mtch4_footprint', 'surplus_total_100_year_mtco2e_footprint', 'surplus_upstream_100_year_mtch4_footprint', 'surplus_upstream_100_year_mtco2e_footprint', 'tons_anaerobic_digestion', 'tons_animal_feed', 'tons_composting', 'tons_donations', 'tons_dumping', 'tons_incineration', 'tons_industrial_uses', 'tons_inedible_parts', 'tons_land_application', 'tons_landfill', 'tons_not_fit_for_human_consumption', 'tons_not_harvested', 'tons_sewer', 'tons_supply', 'tons_surplus', 'tons_uneaten', 'tons_waste', 'us_dollars_surplus', 'year']\n"
     ]
    }
   ],
   "source": [
    "shared_cols_total = get_column_overlap(\n",
    "    df_surplus_summary, \n",
    "    df_surplus_cause_summary, \n",
    "    df_surplus_detail, \n",
    "    df_surplus_state_detail, \n",
    "    df_surplus_state_summary,\n",
    "    df_solutions_detail,\n",
    "    #df_solutions_summary,\n",
    "    #df_solutions_state_summary,\n",
    "    #df_solutions_financial_summary,\n",
    "    #df_solutions_state_financial_summary,\n",
    "    )\n",
    "\n",
    "diff_surplus_summary = get_column_diff(df_surplus_summary, df_surplus_cause_summary)\n",
    "diff_surplus_cause_summary = get_column_diff(df_surplus_cause_summary, df_surplus_summary)\n",
    "\n",
    "#diff_surplus_summary = get_column_diff(df_surplus_summary, df_surplus_cause_summary)\n",
    "#diff_surplus_cause_summary = get_column_diff(df_surplus_cause_summary, df_surplus_summary)\n",
    "\n",
    "print(\"Shared columns:\\n\", sorted(shared_cols_total))\n",
    "print(\"\\nColumns only in surplus_summary:\\n\", sorted(diff_surplus_summary))\n",
    "print(\"\\nColumns only in surplus_cause_summary:\\n\", sorted(diff_surplus_cause_summary))\n",
    "\n",
    "# I'm thinking that the states are going to share columns, but also that the causes are the outlier\n",
    "shared_cols_state = get_column_overlap(df_surplus_state_detail, df_surplus_state_summary)\n",
    "diff_surplus_state_summary = get_column_diff(df_surplus_state_summary, df_surplus_state_detail)\n",
    "diff_surplus_state_detail = get_column_diff(df_surplus_state_detail, df_surplus_state_summary)\n",
    "print(\"Shared state columns:\\n\", sorted(shared_cols_state))\n",
    "print(\"\\nColumns only in surplus_states_summary:\\n\", sorted(diff_surplus_state_summary))\n",
    "print(\"\\nColumns only in surplus_states_detail:\\n\", sorted(diff_surplus_state_detail))\n",
    "\n",
    "# Probably the state and US schema for detail are the same\n",
    "shared_cols_detail = get_column_overlap(df_surplus_detail, df_surplus_state_detail)\n",
    "diff_cols_detail = get_column_diff(df_surplus_detail, df_surplus_state_detail)\n",
    "diff_cols_state_detail = get_column_diff(df_surplus_detail, df_surplus_state_detail)\n",
    "\n",
    "\n",
    "diff_cols_sln = get_column_diff(df_solutions_state_summary, df_surplus_state_summary)\n",
    "diff_cols_surplus = get_column_diff(df_surplus_state_summary, df_solutions_state_summary)\n",
    "print(\"\\nShared columns in *_detail:\\n\", sorted(shared_cols_detail))\n",
    "print(\"\\nColumns only in surplus_detail:\\n\", sorted(diff_cols_detail))\n",
    "print(\"\\nColumns only in surplus_states_detail:\\n\", sorted(diff_cols_state_detail))\n",
    "print(\"\\nColumns only in solution:\\n\", sorted(diff_cols_sln))\n",
    "print(\"\\nColumns only in surplus:\\n\", sorted(diff_cols_surplus))\n",
    "\n"
   ]
  },
  {
   "cell_type": "code",
   "execution_count": null,
   "id": "b8162d7d",
   "metadata": {},
   "outputs": [],
   "source": [
    "# Same with the summary (US vs state), except the states_summary has the state as a column\n",
    "\n",
    "shared_cols_summary     = get_column_overlap(df_surplus_summary, df_surplus_state_summary)\n",
    "diff_cols_summary       = get_column_diff(df_surplus_summary, df_surplus_state_summary)\n",
    "diff_cols_state_summary = get_column_diff(df_surplus_state_summary, df_surplus_summary)\n",
    "print(\"\\nShared columns in *_summary:\\n\", sorted(shared_cols_summary))\n",
    "print(\"\\nColumns only in surplus_summary:\\n\", sorted(diff_cols_summary))\n",
    "print(\"\\nColumns only in surplus_states_summary:\\n\", sorted(diff_cols_state_summary))"
   ]
  }
 ],
 "metadata": {
  "kernelspec": {
   "display_name": "susAgEnv",
   "language": "python",
   "name": "python3"
  },
  "language_info": {
   "codemirror_mode": {
    "name": "ipython",
    "version": 3
   },
   "file_extension": ".py",
   "mimetype": "text/x-python",
   "name": "python",
   "nbconvert_exporter": "python",
   "pygments_lexer": "ipython3",
   "version": "3.12.3"
  }
 },
 "nbformat": 4,
 "nbformat_minor": 5
}
