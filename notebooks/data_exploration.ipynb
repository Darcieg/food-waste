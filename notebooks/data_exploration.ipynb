{
 "cells": [
  {
   "cell_type": "markdown",
   "id": "97340c78",
   "metadata": {},
   "source": [
    "Check to see what the data types are of the columns in ReFED_US_State_Food_Surplus_Detail.csv\n"
   ]
  },
  {
   "cell_type": "code",
   "execution_count": 2,
   "id": "094a22fe",
   "metadata": {},
   "outputs": [],
   "source": [
    "import pandas as pd"
   ]
  },
  {
   "cell_type": "code",
   "execution_count": 6,
   "id": "7b092a76",
   "metadata": {},
   "outputs": [],
   "source": [
    "df = pd.read_csv('../data/raw/ReFED_US_State_Food_Surplus_Detail.csv', skiprows = 1, nrows = 1000)"
   ]
  },
  {
   "cell_type": "code",
   "execution_count": 7,
   "id": "33113f4b",
   "metadata": {},
   "outputs": [
    {
     "name": "stdout",
     "output_type": "stream",
     "text": [
      "<class 'pandas.core.frame.DataFrame'>\n",
      "RangeIndex: 1000 entries, 0 to 999\n",
      "Data columns (total 31 columns):\n",
      " #   Column                                        Non-Null Count  Dtype  \n",
      "---  ------                                        --------------  -----  \n",
      " 0   year                                          1000 non-null   int64  \n",
      " 1   state                                         1000 non-null   object \n",
      " 2   sector                                        1000 non-null   object \n",
      " 3   sub_sector                                    1000 non-null   object \n",
      " 4   sub_sector_category                           1000 non-null   object \n",
      " 5   food_type                                     1000 non-null   object \n",
      " 6   food_category                                 1000 non-null   object \n",
      " 7   tons_surplus                                  1000 non-null   float64\n",
      " 8   tons_supply                                   1000 non-null   float64\n",
      " 9   us_dollars_surplus                            1000 non-null   float64\n",
      " 10  tons_waste                                    1000 non-null   float64\n",
      " 11  tons_uneaten                                  1000 non-null   float64\n",
      " 12  tons_donations                                1000 non-null   float64\n",
      " 13  tons_industrial_uses                          1000 non-null   float64\n",
      " 14  tons_animal_feed                              1000 non-null   float64\n",
      " 15  tons_anaerobic_digestion                      1000 non-null   float64\n",
      " 16  tons_composting                               1000 non-null   float64\n",
      " 17  tons_not_harvested                            1000 non-null   float64\n",
      " 18  tons_incineration                             1000 non-null   float64\n",
      " 19  tons_land_application                         1000 non-null   float64\n",
      " 20  tons_landfill                                 1000 non-null   float64\n",
      " 21  tons_sewer                                    1000 non-null   float64\n",
      " 22  tons_dumping                                  1000 non-null   float64\n",
      " 23  surplus_upstream_100_year_mtco2e_footprint    1000 non-null   float64\n",
      " 24  surplus_downstream_100_year_mtco2e_footprint  1000 non-null   float64\n",
      " 25  surplus_total_100_year_mtco2e_footprint       1000 non-null   float64\n",
      " 26  surplus_upstream_100_year_mtch4_footprint     1000 non-null   float64\n",
      " 27  surplus_downstream_100_year_mtch4_footprint   1000 non-null   float64\n",
      " 28  surplus_total_100_year_mtch4_footprint        1000 non-null   float64\n",
      " 29  gallons_water_footprint                       1000 non-null   float64\n",
      " 30  meals_wasted                                  1000 non-null   float64\n",
      "dtypes: float64(24), int64(1), object(6)\n",
      "memory usage: 242.3+ KB\n"
     ]
    }
   ],
   "source": [
    "df.info()"
   ]
  },
  {
   "cell_type": "code",
   "execution_count": 3,
   "id": "29816ee2",
   "metadata": {},
   "outputs": [],
   "source": [
    "df = pd.read_csv('../data/raw/ReFED_US_State_Food_Surplus_Summary.csv', skiprows = 1, nrows = 1000)"
   ]
  },
  {
   "cell_type": "code",
   "execution_count": 4,
   "id": "5c91b1d6",
   "metadata": {},
   "outputs": [
    {
     "name": "stdout",
     "output_type": "stream",
     "text": [
      "<class 'pandas.core.frame.DataFrame'>\n",
      "RangeIndex: 1000 entries, 0 to 999\n",
      "Data columns (total 32 columns):\n",
      " #   Column                                        Non-Null Count  Dtype  \n",
      "---  ------                                        --------------  -----  \n",
      " 0   year                                          1000 non-null   int64  \n",
      " 1   state                                         1000 non-null   object \n",
      " 2   sector                                        1000 non-null   object \n",
      " 3   sub_sector                                    1000 non-null   object \n",
      " 4   sub_sector_category                           1000 non-null   object \n",
      " 5   food_type                                     1000 non-null   object \n",
      " 6   tons_surplus                                  1000 non-null   float64\n",
      " 7   tons_supply                                   1000 non-null   float64\n",
      " 8   us_dollars_surplus                            1000 non-null   float64\n",
      " 9   tons_waste                                    1000 non-null   float64\n",
      " 10  tons_uneaten                                  1000 non-null   float64\n",
      " 11  tons_inedible_parts                           1000 non-null   float64\n",
      " 12  tons_not_fit_for_human_consumption            1000 non-null   float64\n",
      " 13  tons_donations                                1000 non-null   float64\n",
      " 14  tons_industrial_uses                          1000 non-null   float64\n",
      " 15  tons_animal_feed                              1000 non-null   float64\n",
      " 16  tons_anaerobic_digestion                      1000 non-null   float64\n",
      " 17  tons_composting                               1000 non-null   float64\n",
      " 18  tons_not_harvested                            1000 non-null   float64\n",
      " 19  tons_incineration                             1000 non-null   float64\n",
      " 20  tons_land_application                         1000 non-null   float64\n",
      " 21  tons_landfill                                 1000 non-null   float64\n",
      " 22  tons_sewer                                    1000 non-null   float64\n",
      " 23  tons_dumping                                  1000 non-null   float64\n",
      " 24  surplus_upstream_100_year_mtco2e_footprint    1000 non-null   float64\n",
      " 25  surplus_downstream_100_year_mtco2e_footprint  1000 non-null   float64\n",
      " 26  surplus_total_100_year_mtco2e_footprint       1000 non-null   float64\n",
      " 27  surplus_upstream_100_year_mtch4_footprint     1000 non-null   float64\n",
      " 28  surplus_downstream_100_year_mtch4_footprint   1000 non-null   float64\n",
      " 29  surplus_total_100_year_mtch4_footprint        1000 non-null   float64\n",
      " 30  gallons_water_footprint                       1000 non-null   float64\n",
      " 31  meals_wasted                                  1000 non-null   float64\n",
      "dtypes: float64(26), int64(1), object(5)\n",
      "memory usage: 250.1+ KB\n"
     ]
    }
   ],
   "source": [
    "df.info()"
   ]
  }
 ],
 "metadata": {
  "kernelspec": {
   "display_name": "susAgEnv",
   "language": "python",
   "name": "python3"
  },
  "language_info": {
   "codemirror_mode": {
    "name": "ipython",
    "version": 3
   },
   "file_extension": ".py",
   "mimetype": "text/x-python",
   "name": "python",
   "nbconvert_exporter": "python",
   "pygments_lexer": "ipython3",
   "version": "3.12.3"
  }
 },
 "nbformat": 4,
 "nbformat_minor": 5
}
